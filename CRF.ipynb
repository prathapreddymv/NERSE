{
 "cells": [
  {
   "cell_type": "code",
   "execution_count": 1,
   "metadata": {
    "collapsed": true
   },
   "outputs": [],
   "source": [
    "#Named Entity Recognition With Conditional Random Fields In Python"
   ]
  },
  {
   "cell_type": "code",
   "execution_count": 2,
   "metadata": {
    "collapsed": true
   },
   "outputs": [],
   "source": [
    "import pandas as pd\n",
    "import numpy as np\n",
    "\n",
    "data=pd.read_csv(\"crftag100.tsv\",encoding=\"latin1\")\n"
   ]
  },
  {
   "cell_type": "code",
   "execution_count": 3,
   "metadata": {
    "collapsed": true
   },
   "outputs": [],
   "source": [
    "data = data.fillna(method=\"ffill\")"
   ]
  },
  {
   "cell_type": "code",
   "execution_count": 4,
   "metadata": {},
   "outputs": [
    {
     "data": {
      "text/html": [
       "<div>\n",
       "<style>\n",
       "    .dataframe thead tr:only-child th {\n",
       "        text-align: right;\n",
       "    }\n",
       "\n",
       "    .dataframe thead th {\n",
       "        text-align: left;\n",
       "    }\n",
       "\n",
       "    .dataframe tbody tr th {\n",
       "        vertical-align: top;\n",
       "    }\n",
       "</style>\n",
       "<table border=\"1\" class=\"dataframe\">\n",
       "  <thead>\n",
       "    <tr style=\"text-align: right;\">\n",
       "      <th></th>\n",
       "      <th>Sentence #</th>\n",
       "      <th>Word</th>\n",
       "      <th>POS</th>\n",
       "      <th>Tag</th>\n",
       "    </tr>\n",
       "  </thead>\n",
       "  <tbody>\n",
       "    <tr>\n",
       "      <th>9346</th>\n",
       "      <td>Sentence: 100</td>\n",
       "      <td>or</td>\n",
       "      <td>CC</td>\n",
       "      <td>o</td>\n",
       "    </tr>\n",
       "    <tr>\n",
       "      <th>9347</th>\n",
       "      <td>Sentence: 100</td>\n",
       "      <td>anything</td>\n",
       "      <td>NN</td>\n",
       "      <td>o</td>\n",
       "    </tr>\n",
       "    <tr>\n",
       "      <th>9348</th>\n",
       "      <td>Sentence: 100</td>\n",
       "      <td>.</td>\n",
       "      <td>.</td>\n",
       "      <td>o</td>\n",
       "    </tr>\n",
       "    <tr>\n",
       "      <th>9349</th>\n",
       "      <td>Sentence: 100</td>\n",
       "      <td>Use</td>\n",
       "      <td>NNP</td>\n",
       "      <td>o</td>\n",
       "    </tr>\n",
       "    <tr>\n",
       "      <th>9350</th>\n",
       "      <td>Sentence: 100</td>\n",
       "      <td>code</td>\n",
       "      <td>NN</td>\n",
       "      <td>o</td>\n",
       "    </tr>\n",
       "    <tr>\n",
       "      <th>9351</th>\n",
       "      <td>Sentence: 100</td>\n",
       "      <td>reviews</td>\n",
       "      <td>NNS</td>\n",
       "      <td>o</td>\n",
       "    </tr>\n",
       "    <tr>\n",
       "      <th>9352</th>\n",
       "      <td>Sentence: 100</td>\n",
       "      <td>for</td>\n",
       "      <td>IN</td>\n",
       "      <td>o</td>\n",
       "    </tr>\n",
       "    <tr>\n",
       "      <th>9353</th>\n",
       "      <td>Sentence: 100</td>\n",
       "      <td>that</td>\n",
       "      <td>DT</td>\n",
       "      <td>o</td>\n",
       "    </tr>\n",
       "    <tr>\n",
       "      <th>9354</th>\n",
       "      <td>Sentence: 100</td>\n",
       "      <td>purpose</td>\n",
       "      <td>NN</td>\n",
       "      <td>o</td>\n",
       "    </tr>\n",
       "    <tr>\n",
       "      <th>9355</th>\n",
       "      <td>Sentence: 100</td>\n",
       "      <td>.</td>\n",
       "      <td>.</td>\n",
       "      <td>o</td>\n",
       "    </tr>\n",
       "  </tbody>\n",
       "</table>\n",
       "</div>"
      ],
      "text/plain": [
       "         Sentence #      Word  POS Tag\n",
       "9346  Sentence: 100        or   CC   o\n",
       "9347  Sentence: 100  anything   NN   o\n",
       "9348  Sentence: 100         .    .   o\n",
       "9349  Sentence: 100       Use  NNP   o\n",
       "9350  Sentence: 100      code   NN   o\n",
       "9351  Sentence: 100   reviews  NNS   o\n",
       "9352  Sentence: 100       for   IN   o\n",
       "9353  Sentence: 100      that   DT   o\n",
       "9354  Sentence: 100   purpose   NN   o\n",
       "9355  Sentence: 100         .    .   o"
      ]
     },
     "execution_count": 4,
     "metadata": {},
     "output_type": "execute_result"
    }
   ],
   "source": [
    "data.tail(10)"
   ]
  },
  {
   "cell_type": "code",
   "execution_count": 5,
   "metadata": {
    "collapsed": true
   },
   "outputs": [],
   "source": [
    "words = list(set(data[\"Word\"].values))"
   ]
  },
  {
   "cell_type": "code",
   "execution_count": 6,
   "metadata": {},
   "outputs": [
    {
     "data": {
      "text/plain": [
       "2165"
      ]
     },
     "execution_count": 6,
     "metadata": {},
     "output_type": "execute_result"
    }
   ],
   "source": [
    "n_words = len(words); n_words"
   ]
  },
  {
   "cell_type": "code",
   "execution_count": 7,
   "metadata": {
    "collapsed": true
   },
   "outputs": [],
   "source": [
    "class SentenceGetter(object):\n",
    "    \n",
    "    def __init__(self, data):\n",
    "        self.n_sent = 1\n",
    "        self.data = data\n",
    "        self.empty = False\n",
    "        agg_func = lambda s: [(w, p, t) for w, p, t in zip(s[\"Word\"].values.tolist(),\n",
    "                                                           s[\"POS\"].values.tolist(),\n",
    "                                                           s[\"Tag\"].values.tolist())]\n",
    "        self.grouped = self.data.groupby(\"Sentence #\").apply(agg_func)\n",
    "        self.sentences = [s for s in self.grouped]\n",
    "    \n",
    "    def get_next(self):\n",
    "        try:\n",
    "            s = self.grouped[\"Sentence: {}\".format(self.n_sent)]\n",
    "            self.n_sent += 1\n",
    "            return s\n",
    "        except:\n",
    "            return None"
   ]
  },
  {
   "cell_type": "code",
   "execution_count": 8,
   "metadata": {
    "collapsed": true
   },
   "outputs": [],
   "source": [
    "getter = SentenceGetter(data)\n"
   ]
  },
  {
   "cell_type": "code",
   "execution_count": 9,
   "metadata": {
    "collapsed": true
   },
   "outputs": [],
   "source": [
    "sent = getter.get_next()"
   ]
  },
  {
   "cell_type": "code",
   "execution_count": 10,
   "metadata": {},
   "outputs": [
    {
     "name": "stdout",
     "output_type": "stream",
     "text": [
      "[('I', 'PRP', 'o'), ('want', 'VBP', 'o'), ('to', 'TO', 'o'), ('be', 'VB', 'o'), ('able', 'JJ', 'o'), ('to', 'TO', 'o'), ('display', 'VB', 'o'), ('a', 'DT', 'o'), ('normal', 'JJ', 'o'), ('YouTube', 'NNP', 'o'), ('video', 'NN', 'o'), ('with', 'IN', 'o'), ('overlaid', 'JJ', 'o'), ('annotations', 'NNS', 'o'), (',', ',', 'o'), ('consisting', 'VBG', 'o'), ('of', 'IN', 'o'), ('coloured', 'JJ', 'o'), ('rectangles', 'NNS', 'o'), ('for', 'IN', 'o'), ('each', 'DT', 'o'), ('frame', 'NN', 'o'), ('.', '.', 'o'), ('The', 'DT', 'o'), ('only', 'JJ', 'o'), ('requirement', 'NN', 'o'), ('is', 'VBZ', 'o'), ('that', 'IN', 'o'), ('this', 'DT', 'o'), ('should', 'MD', 'o'), ('be', 'VB', 'o'), ('done', 'VBN', 'o'), ('programmatically', 'RB', 'o'), ('.', '.', 'o'), ('YouTube', 'NNP', 'o'), ('has', 'VBZ', 'o'), ('annotations', 'NNS', 'o'), ('now', 'RB', 'o'), (',', ',', 'o'), ('but', 'CC', 'o'), ('require', 'VBP', 'o'), ('you', 'PRP', 'o'), ('to', 'TO', 'o'), ('use', 'VB', 'o'), ('their', 'PRP$', 'o'), ('front', 'JJ', 'o'), ('end', 'NN', 'o'), ('to', 'TO', 'o'), ('create', 'VB', 'o'), ('them', 'PRP', 'o'), ('by', 'IN', 'o'), ('hand', 'NN', 'o'), ('.', '.', 'o'), ('I', 'PRP', 'o'), ('want', 'VBP', 'o'), ('to', 'TO', 'o'), ('be', 'VB', 'o'), ('able', 'JJ', 'o'), ('to', 'TO', 'o'), ('generate', 'VB', 'o'), ('them', 'PRP', 'o'), ('.', '.', 'o'), ('What', 'WP', 'o'), (\"'s\", 'VBZ', 'o'), ('the', 'DT', 'o'), ('best', 'JJS', 'o'), ('way', 'NN', 'o'), ('of', 'IN', 'o'), ('doing', 'VBG', 'o'), ('this', 'DT', 'o'), ('?', '.', 'o'), ('Some', 'DT', 'o'), ('ideas', 'NNS', 'o'), (':', ':', 'o'), ('Build', 'VB', 'o'), ('your', 'PRP$', 'o'), ('own', 'JJ', 'o'), ('Flash', 'NNP', 'SoftwareApplications'), ('player', 'NN', 'o'), ('(', '(', 'o'), ('ew', 'VB', 'o'), ('?', '.', 'o'), (')', ')', 'o'), ('Somehow', 'NNP', 'o'), ('draw', 'VBZ', 'o'), ('over', 'IN', 'o'), ('the', 'DT', 'o'), ('YouTube', 'NNP', 'o'), ('Flash', 'NNP', 'SoftwareApplications'), ('player', 'NN', 'o'), ('.', '.', 'o'), ('Will', 'VB', 'o'), ('this', 'DT', 'o'), ('work', 'NN', 'o'), ('?', '.', 'o'), ('Reverse', 'NNP', 'o'), ('engineer', 'NN', 'o'), ('&', 'CC', 'o'), ('amp', 'NN', 'o'), (';', ':', 'o'), ('hijack', 'CC', 'o'), ('YouTube', 'NNP', 'o'), (\"'s\", 'POS', 'o'), ('annotation', 'NN', 'o'), ('system', 'NN', 'o'), ('.', '.', 'o'), ('Either', 'CC', 'o'), ('messing', 'VBG', 'o'), ('with', 'IN', 'o'), ('the', 'DT', 'o'), ('local', 'JJ', 'o'), ('files', 'NNS', 'o'), ('or', 'CC', 'o'), ('redirecting', 'VBG', 'o'), ('its', 'PRP$', 'o'), ('attempt', 'NN', 'o'), ('to', 'TO', 'o'), ('download', 'VB', 'SoftwareOperation'), ('the', 'DT', 'o'), ('annotations', 'NNS', 'o'), ('.', '.', 'o'), ('(', '(', 'o'), ('using', 'VBG', 'o'), ('Greasemonkey', 'NNP', 'o'), ('?', '.', 'o'), ('Firefox', 'NNP', 'o'), ('plugin', 'NN', 'o'), ('?', '.', 'o'), (')', ')', 'o'), ('Idea', 'VBZ', 'o'), ('that', 'WDT', 'o'), ('does', 'VBZ', 'o'), (\"n't\", 'RB', 'o'), ('count', 'VB', 'o'), (':', ':', 'o'), ('download', 'NN', 'SoftwareOperation'), ('the', 'DT', 'o'), ('video', 'NN', 'o')]\n"
     ]
    }
   ],
   "source": [
    "print(sent)"
   ]
  },
  {
   "cell_type": "code",
   "execution_count": 11,
   "metadata": {
    "collapsed": true
   },
   "outputs": [],
   "source": [
    "sentences = getter.sentences"
   ]
  },
  {
   "cell_type": "code",
   "execution_count": 12,
   "metadata": {
    "collapsed": true
   },
   "outputs": [],
   "source": [
    "def word2features(sent, i):\n",
    "    word = sent[i][0]\n",
    "    postag = sent[i][1]\n",
    "\n",
    "    features = {\n",
    "        'bias': 1.0,\n",
    "        'word.lower()': word.lower(),\n",
    "        'word[-3:]': word[-3:],\n",
    "        'word[-2:]': word[-2:],\n",
    "        'word.isupper()': word.isupper(),\n",
    "        'word.istitle()': word.istitle(),\n",
    "        'word.isdigit()': word.isdigit(),\n",
    "        'postag': postag,\n",
    "        'postag[:2]': postag[:2],\n",
    "    }\n",
    "    if i > 0:\n",
    "        word1 = sent[i-1][0]\n",
    "        postag1 = sent[i-1][1]\n",
    "        features.update({\n",
    "            '-1:word.lower()': word1.lower(),\n",
    "            '-1:word.istitle()': word1.istitle(),\n",
    "            '-1:word.isupper()': word1.isupper(),\n",
    "            '-1:postag': postag1,\n",
    "            '-1:postag[:2]': postag1[:2],\n",
    "        })\n",
    "    else:\n",
    "        features['BOS'] = True\n",
    "\n",
    "    if i < len(sent)-1:\n",
    "        word1 = sent[i+1][0]\n",
    "        postag1 = sent[i+1][1]\n",
    "        features.update({\n",
    "            '+1:word.lower()': word1.lower(),\n",
    "            '+1:word.istitle()': word1.istitle(),\n",
    "            '+1:word.isupper()': word1.isupper(),\n",
    "            '+1:postag': postag1,\n",
    "            '+1:postag[:2]': postag1[:2],\n",
    "        })\n",
    "    else:\n",
    "        features['EOS'] = True\n",
    "\n",
    "    return features\n",
    "\n",
    "\n",
    "def sent2features(sent):\n",
    "    return [word2features(sent, i) for i in range(len(sent))]\n",
    "\n",
    "def sent2labels(sent):\n",
    "    return [label for token, postag, label in sent]\n",
    "\n",
    "def sent2tokens(sent):\n",
    "    return [token for token, postag, label in sent]"
   ]
  },
  {
   "cell_type": "code",
   "execution_count": 13,
   "metadata": {
    "collapsed": true
   },
   "outputs": [],
   "source": [
    "X = [sent2features(s) for s in sentences]\n"
   ]
  },
  {
   "cell_type": "code",
   "execution_count": 14,
   "metadata": {
    "collapsed": true
   },
   "outputs": [],
   "source": [
    "y = [sent2labels(s) for s in sentences]"
   ]
  },
  {
   "cell_type": "code",
   "execution_count": 15,
   "metadata": {
    "collapsed": true
   },
   "outputs": [],
   "source": [
    "from sklearn_crfsuite import CRF\n",
    "\n",
    "crf = CRF(algorithm='lbfgs',\n",
    "          c1=0.1,\n",
    "          c2=0.1,\n",
    "          max_iterations=100,\n",
    "          all_possible_transitions=False)"
   ]
  },
  {
   "cell_type": "code",
   "execution_count": 16,
   "metadata": {},
   "outputs": [
    {
     "name": "stderr",
     "output_type": "stream",
     "text": [
      "C:\\Users\\ALK4KOR\\AppData\\Local\\Continuum\\anaconda3\\lib\\site-packages\\sklearn\\cross_validation.py:41: DeprecationWarning: This module was deprecated in version 0.18 in favor of the model_selection module into which all the refactored classes and functions are moved. Also note that the interface of the new CV iterators are different from that of this module. This module will be removed in 0.20.\n",
      "  \"This module will be removed in 0.20.\", DeprecationWarning)\n"
     ]
    }
   ],
   "source": [
    "from sklearn.cross_validation import cross_val_predict\n",
    "from sklearn_crfsuite.metrics import flat_classification_report"
   ]
  },
  {
   "cell_type": "code",
   "execution_count": 17,
   "metadata": {
    "collapsed": true
   },
   "outputs": [],
   "source": [
    "pred = cross_val_predict(estimator=crf, X=X, y=y, cv=5)"
   ]
  },
  {
   "cell_type": "code",
   "execution_count": 18,
   "metadata": {},
   "outputs": [
    {
     "name": "stderr",
     "output_type": "stream",
     "text": [
      "C:\\Users\\ALK4KOR\\AppData\\Local\\Continuum\\anaconda3\\lib\\site-packages\\sklearn\\metrics\\classification.py:1135: UndefinedMetricWarning: Precision and F-score are ill-defined and being set to 0.0 in labels with no predicted samples.\n",
      "  'precision', 'predicted', average, warn_for)\n"
     ]
    }
   ],
   "source": [
    "report = flat_classification_report(y_pred=pred, y_true=y)\n"
   ]
  },
  {
   "cell_type": "code",
   "execution_count": 19,
   "metadata": {},
   "outputs": [
    {
     "name": "stdout",
     "output_type": "stream",
     "text": [
      "                          precision    recall  f1-score   support\n",
      "\n",
      "  Hardware-Architectures       0.00      0.00      0.00         1\n",
      "       Non-OOP-Functions       0.92      0.57      0.71        21\n",
      "      OOP-Public methods       0.00      0.00      0.00         1\n",
      "        OS&SystemKernels       1.00      0.15      0.27        13\n",
      "         Object-oriented       1.00      0.08      0.15        12\n",
      "           Others-Events       0.00      0.00      0.00         3\n",
      "              Procedural       1.00      0.73      0.85        15\n",
      "Software design patterns       0.00      0.00      0.00         3\n",
      "    SoftwareApplications       1.00      0.17      0.29         6\n",
      "       SoftwareOperation       0.89      0.40      0.55        43\n",
      "            SoftwareRole       1.00      0.06      0.12        16\n",
      "           SoftwareTools       0.00      0.00      0.00         3\n",
      "       StandardProtocols       1.00      0.85      0.92        13\n",
      "         Web development       1.00      0.57      0.73        21\n",
      "                       o       0.99      1.00      0.99      9165\n",
      "              otherTypes       1.00      0.75      0.86        20\n",
      "\n",
      "             avg / total       0.99      0.99      0.98      9356\n",
      "\n"
     ]
    }
   ],
   "source": [
    "print(report)"
   ]
  },
  {
   "cell_type": "code",
   "execution_count": 20,
   "metadata": {},
   "outputs": [
    {
     "data": {
      "text/plain": [
       "CRF(algorithm='lbfgs', all_possible_states=None,\n",
       "  all_possible_transitions=False, averaging=None, c=None, c1=0.1, c2=0.1,\n",
       "  calibration_candidates=None, calibration_eta=None,\n",
       "  calibration_max_trials=None, calibration_rate=None,\n",
       "  calibration_samples=None, delta=None, epsilon=None, error_sensitive=None,\n",
       "  gamma=None, keep_tempfiles=None, linesearch=None, max_iterations=100,\n",
       "  max_linesearch=None, min_freq=None, model_filename=None,\n",
       "  num_memories=None, pa_type=None, period=None, trainer_cls=None,\n",
       "  variance=None, verbose=False)"
      ]
     },
     "execution_count": 20,
     "metadata": {},
     "output_type": "execute_result"
    }
   ],
   "source": [
    "crf.fit(X, y)"
   ]
  },
  {
   "cell_type": "code",
   "execution_count": null,
   "metadata": {
    "collapsed": true
   },
   "outputs": [],
   "source": []
  },
  {
   "cell_type": "code",
   "execution_count": null,
   "metadata": {
    "collapsed": true
   },
   "outputs": [],
   "source": []
  },
  {
   "cell_type": "code",
   "execution_count": null,
   "metadata": {
    "collapsed": true
   },
   "outputs": [],
   "source": []
  },
  {
   "cell_type": "code",
   "execution_count": null,
   "metadata": {
    "collapsed": true
   },
   "outputs": [],
   "source": []
  },
  {
   "cell_type": "code",
   "execution_count": null,
   "metadata": {
    "collapsed": true
   },
   "outputs": [],
   "source": []
  },
  {
   "cell_type": "code",
   "execution_count": null,
   "metadata": {
    "collapsed": true
   },
   "outputs": [],
   "source": []
  },
  {
   "cell_type": "code",
   "execution_count": null,
   "metadata": {
    "collapsed": true
   },
   "outputs": [],
   "source": []
  },
  {
   "cell_type": "code",
   "execution_count": null,
   "metadata": {
    "collapsed": true
   },
   "outputs": [],
   "source": []
  },
  {
   "cell_type": "code",
   "execution_count": null,
   "metadata": {
    "collapsed": true
   },
   "outputs": [],
   "source": []
  },
  {
   "cell_type": "code",
   "execution_count": null,
   "metadata": {
    "collapsed": true
   },
   "outputs": [],
   "source": []
  },
  {
   "cell_type": "code",
   "execution_count": null,
   "metadata": {
    "collapsed": true
   },
   "outputs": [],
   "source": []
  },
  {
   "cell_type": "code",
   "execution_count": null,
   "metadata": {
    "collapsed": true
   },
   "outputs": [],
   "source": []
  },
  {
   "cell_type": "code",
   "execution_count": null,
   "metadata": {
    "collapsed": true
   },
   "outputs": [],
   "source": []
  },
  {
   "cell_type": "code",
   "execution_count": null,
   "metadata": {
    "collapsed": true
   },
   "outputs": [],
   "source": []
  },
  {
   "cell_type": "code",
   "execution_count": null,
   "metadata": {
    "collapsed": true
   },
   "outputs": [],
   "source": []
  }
 ],
 "metadata": {
  "kernelspec": {
   "display_name": "Python 3",
   "language": "python",
   "name": "python3"
  },
  "language_info": {
   "codemirror_mode": {
    "name": "ipython",
    "version": 3
   },
   "file_extension": ".py",
   "mimetype": "text/x-python",
   "name": "python",
   "nbconvert_exporter": "python",
   "pygments_lexer": "ipython3",
   "version": "3.6.3"
  }
 },
 "nbformat": 4,
 "nbformat_minor": 2
}
