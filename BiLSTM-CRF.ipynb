{
 "cells": [
  {
   "cell_type": "code",
   "execution_count": 3,
   "metadata": {
    "collapsed": true,
    "scrolled": true
   },
   "outputs": [],
   "source": [
    "import pandas as pd\n",
    "import numpy as np\n",
    "data = pd.read_csv('crftag1000.tsv', encoding='latin1')"
   ]
  },
  {
   "cell_type": "code",
   "execution_count": 4,
   "metadata": {
    "collapsed": true
   },
   "outputs": [],
   "source": [
    "data = data.fillna(method=\"ffill\")"
   ]
  },
  {
   "cell_type": "code",
   "execution_count": 19,
   "metadata": {},
   "outputs": [
    {
     "data": {
      "text/html": [
       "<div>\n",
       "<style>\n",
       "    .dataframe thead tr:only-child th {\n",
       "        text-align: right;\n",
       "    }\n",
       "\n",
       "    .dataframe thead th {\n",
       "        text-align: left;\n",
       "    }\n",
       "\n",
       "    .dataframe tbody tr th {\n",
       "        vertical-align: top;\n",
       "    }\n",
       "</style>\n",
       "<table border=\"1\" class=\"dataframe\">\n",
       "  <thead>\n",
       "    <tr style=\"text-align: right;\">\n",
       "      <th></th>\n",
       "      <th>Sentence #</th>\n",
       "      <th>Word</th>\n",
       "      <th>POS</th>\n",
       "      <th>Tag</th>\n",
       "    </tr>\n",
       "  </thead>\n",
       "  <tbody>\n",
       "    <tr>\n",
       "      <th>92764</th>\n",
       "      <td>Sentence: 1000</td>\n",
       "      <td>good</td>\n",
       "      <td>JJ</td>\n",
       "      <td>o</td>\n",
       "    </tr>\n",
       "    <tr>\n",
       "      <th>92765</th>\n",
       "      <td>Sentence: 1000</td>\n",
       "      <td>practice</td>\n",
       "      <td>NN</td>\n",
       "      <td>o</td>\n",
       "    </tr>\n",
       "    <tr>\n",
       "      <th>92766</th>\n",
       "      <td>Sentence: 1000</td>\n",
       "      <td>is</td>\n",
       "      <td>VBZ</td>\n",
       "      <td>o</td>\n",
       "    </tr>\n",
       "    <tr>\n",
       "      <th>92767</th>\n",
       "      <td>Sentence: 1000</td>\n",
       "      <td>welcome</td>\n",
       "      <td>JJ</td>\n",
       "      <td>o</td>\n",
       "    </tr>\n",
       "    <tr>\n",
       "      <th>92768</th>\n",
       "      <td>Sentence: 1000</td>\n",
       "      <td>.</td>\n",
       "      <td>.</td>\n",
       "      <td>o</td>\n",
       "    </tr>\n",
       "  </tbody>\n",
       "</table>\n",
       "</div>"
      ],
      "text/plain": [
       "           Sentence #      Word  POS Tag\n",
       "92764  Sentence: 1000      good   JJ   o\n",
       "92765  Sentence: 1000  practice   NN   o\n",
       "92766  Sentence: 1000        is  VBZ   o\n",
       "92767  Sentence: 1000   welcome   JJ   o\n",
       "92768  Sentence: 1000         .    .   o"
      ]
     },
     "execution_count": 19,
     "metadata": {},
     "output_type": "execute_result"
    }
   ],
   "source": [
    "data.tail(5)"
   ]
  },
  {
   "cell_type": "code",
   "execution_count": 6,
   "metadata": {},
   "outputs": [
    {
     "data": {
      "text/plain": [
       "10044"
      ]
     },
     "execution_count": 6,
     "metadata": {},
     "output_type": "execute_result"
    }
   ],
   "source": [
    "words = list(set(data[\"Word\"].values))\n",
    "words.append(\"ENDPAD\")\n",
    "n_words = len(words); n_words"
   ]
  },
  {
   "cell_type": "code",
   "execution_count": 7,
   "metadata": {},
   "outputs": [
    {
     "data": {
      "text/plain": [
       "22"
      ]
     },
     "execution_count": 7,
     "metadata": {},
     "output_type": "execute_result"
    }
   ],
   "source": [
    "tags = list(set(data[\"Tag\"].values))\n",
    "n_tags = len(tags); n_tags"
   ]
  },
  {
   "cell_type": "code",
   "execution_count": 10,
   "metadata": {
    "collapsed": true
   },
   "outputs": [],
   "source": [
    "class SentenceGetter(object):\n",
    "    \n",
    "    def __init__(self, data):\n",
    "        self.n_sent = 1\n",
    "        self.data = data\n",
    "        self.empty = False\n",
    "        agg_func = lambda s: [(w, p, t) for w, p, t in zip(s[\"Word\"].values.tolist(),\n",
    "                                                           s[\"POS\"].values.tolist(),\n",
    "                                                           s[\"Tag\"].values.tolist())]\n",
    "        self.grouped = self.data.groupby(\"Sentence #\").apply(agg_func)\n",
    "        self.sentences = [s for s in self.grouped]\n",
    "    \n",
    "    def get_next(self):\n",
    "        try:\n",
    "            s = self.grouped[\"Sentence: {}\".format(self.n_sent)]\n",
    "            self.n_sent += 1\n",
    "            return s\n",
    "        except:\n",
    "            return None\n",
    "getter = SentenceGetter(data)\n",
    "sent = getter.get_next()"
   ]
  },
  {
   "cell_type": "code",
   "execution_count": 11,
   "metadata": {},
   "outputs": [
    {
     "name": "stdout",
     "output_type": "stream",
     "text": [
      "[('I', 'PRP', 'o'), ('want', 'VBP', 'o'), ('to', 'TO', 'o'), ('be', 'VB', 'o'), ('able', 'JJ', 'o'), ('to', 'TO', 'o'), ('display', 'VB', 'o'), ('a', 'DT', 'o'), ('normal', 'JJ', 'o'), ('YouTube', 'NNP', 'o'), ('video', 'NN', 'o'), ('with', 'IN', 'o'), ('overlaid', 'JJ', 'o'), ('annotations', 'NNS', 'o'), (',', ',', 'o'), ('consisting', 'VBG', 'o'), ('of', 'IN', 'o'), ('coloured', 'JJ', 'o'), ('rectangles', 'NNS', 'o'), ('for', 'IN', 'o'), ('each', 'DT', 'o'), ('frame', 'NN', 'o'), ('.', '.', 'o'), ('The', 'DT', 'o'), ('only', 'JJ', 'o'), ('requirement', 'NN', 'o'), ('is', 'VBZ', 'o'), ('that', 'IN', 'o'), ('this', 'DT', 'o'), ('should', 'MD', 'o'), ('be', 'VB', 'o'), ('done', 'VBN', 'o'), ('programmatically', 'RB', 'o'), ('.', '.', 'o'), ('YouTube', 'NNP', 'o'), ('has', 'VBZ', 'o'), ('annotations', 'NNS', 'o'), ('now', 'RB', 'o'), (',', ',', 'o'), ('but', 'CC', 'o'), ('require', 'VBP', 'o'), ('you', 'PRP', 'o'), ('to', 'TO', 'o'), ('use', 'VB', 'o'), ('their', 'PRP$', 'o'), ('front', 'JJ', 'o'), ('end', 'NN', 'o'), ('to', 'TO', 'o'), ('create', 'VB', 'o'), ('them', 'PRP', 'o'), ('by', 'IN', 'o'), ('hand', 'NN', 'o'), ('.', '.', 'o'), ('I', 'PRP', 'o'), ('want', 'VBP', 'o'), ('to', 'TO', 'o'), ('be', 'VB', 'o'), ('able', 'JJ', 'o'), ('to', 'TO', 'o'), ('generate', 'VB', 'o'), ('them', 'PRP', 'o'), ('.', '.', 'o'), ('What', 'WP', 'o'), (\"'s\", 'VBZ', 'o'), ('the', 'DT', 'o'), ('best', 'JJS', 'o'), ('way', 'NN', 'o'), ('of', 'IN', 'o'), ('doing', 'VBG', 'o'), ('this', 'DT', 'o'), ('?', '.', 'o'), ('Some', 'DT', 'o'), ('ideas', 'NNS', 'o'), (':', ':', 'o'), ('Build', 'VB', 'o'), ('your', 'PRP$', 'o'), ('own', 'JJ', 'o'), ('Flash', 'NNP', 'SoftwareApplications'), ('player', 'NN', 'o'), ('(', '(', 'o'), ('ew', 'VB', 'o'), ('?', '.', 'o'), (')', ')', 'o'), ('Somehow', 'NNP', 'o'), ('draw', 'VBZ', 'o'), ('over', 'IN', 'o'), ('the', 'DT', 'o'), ('YouTube', 'NNP', 'o'), ('Flash', 'NNP', 'SoftwareApplications'), ('player', 'NN', 'o'), ('.', '.', 'o'), ('Will', 'VB', 'o'), ('this', 'DT', 'o'), ('work', 'NN', 'o'), ('?', '.', 'o'), ('Reverse', 'NNP', 'o'), ('engineer', 'NN', 'o'), ('&', 'CC', 'o'), ('amp', 'NN', 'o'), (';', ':', 'o'), ('hijack', 'CC', 'o'), ('YouTube', 'NNP', 'o'), (\"'s\", 'POS', 'o'), ('annotation', 'NN', 'o'), ('system', 'NN', 'o'), ('.', '.', 'o'), ('Either', 'CC', 'o'), ('messing', 'VBG', 'o'), ('with', 'IN', 'o'), ('the', 'DT', 'o'), ('local', 'JJ', 'o'), ('files', 'NNS', 'o'), ('or', 'CC', 'o'), ('redirecting', 'VBG', 'o'), ('its', 'PRP$', 'o'), ('attempt', 'NN', 'o'), ('to', 'TO', 'o'), ('download', 'VB', 'SoftwareOperation'), ('the', 'DT', 'o'), ('annotations', 'NNS', 'o'), ('.', '.', 'o'), ('(', '(', 'o'), ('using', 'VBG', 'o'), ('Greasemonkey', 'NNP', 'o'), ('?', '.', 'o'), ('Firefox', 'NNP', 'o'), ('plugin', 'NN', 'o'), ('?', '.', 'o'), (')', ')', 'o'), ('Idea', 'VBZ', 'o'), ('that', 'WDT', 'o'), ('does', 'VBZ', 'o'), (\"n't\", 'RB', 'o'), ('count', 'VB', 'o'), (':', ':', 'o'), ('download', 'NN', 'SoftwareOperation'), ('the', 'DT', 'o'), ('video', 'NN', 'o')]\n"
     ]
    }
   ],
   "source": [
    "print(sent)"
   ]
  },
  {
   "cell_type": "code",
   "execution_count": 12,
   "metadata": {
    "collapsed": true
   },
   "outputs": [],
   "source": [
    "sentences = getter.sentences"
   ]
  },
  {
   "cell_type": "code",
   "execution_count": 14,
   "metadata": {
    "collapsed": true
   },
   "outputs": [],
   "source": [
    "max_len = 150\n",
    "word2idx = {w: i + 1 for i, w in enumerate(words)}\n",
    "tag2idx = {t: i for i, t in enumerate(tags)}"
   ]
  },
  {
   "cell_type": "code",
   "execution_count": 15,
   "metadata": {},
   "outputs": [
    {
     "data": {
      "text/plain": [
       "8268"
      ]
     },
     "execution_count": 15,
     "metadata": {},
     "output_type": "execute_result"
    }
   ],
   "source": [
    "word2idx[\"python\"]"
   ]
  },
  {
   "cell_type": "code",
   "execution_count": 20,
   "metadata": {},
   "outputs": [
    {
     "data": {
      "text/plain": [
       "12"
      ]
     },
     "execution_count": 20,
     "metadata": {},
     "output_type": "execute_result"
    }
   ],
   "source": [
    "tag2idx[\"SoftwareOperation\"]"
   ]
  },
  {
   "cell_type": "code",
   "execution_count": 21,
   "metadata": {},
   "outputs": [
    {
     "name": "stderr",
     "output_type": "stream",
     "text": [
      "C:\\Users\\ALK4KOR\\AppData\\Local\\Continuum\\anaconda3\\lib\\site-packages\\h5py\\__init__.py:34: FutureWarning: Conversion of the second argument of issubdtype from `float` to `np.floating` is deprecated. In future, it will be treated as `np.float64 == np.dtype(float).type`.\n",
      "  from ._conv import register_converters as _register_converters\n",
      "Using TensorFlow backend.\n"
     ]
    }
   ],
   "source": [
    "from keras.preprocessing.sequence import pad_sequences\n",
    "X = [[word2idx[w[0]] for w in s] for s in sentences]"
   ]
  },
  {
   "cell_type": "code",
   "execution_count": 25,
   "metadata": {
    "collapsed": true
   },
   "outputs": [],
   "source": [
    "X = pad_sequences(maxlen=max_len, sequences=X, padding=\"post\", value=0)"
   ]
  },
  {
   "cell_type": "code",
   "execution_count": 28,
   "metadata": {},
   "outputs": [],
   "source": [
    "y = [[tag2idx[w[2]] for w in s] for s in sentences]\n",
    "y = pad_sequences(maxlen=max_len, sequences=y, padding=\"post\", value=tag2idx[\"o\"])"
   ]
  },
  {
   "cell_type": "code",
   "execution_count": 29,
   "metadata": {
    "collapsed": true
   },
   "outputs": [],
   "source": [
    "from keras.utils import to_categorical"
   ]
  },
  {
   "cell_type": "code",
   "execution_count": 30,
   "metadata": {
    "collapsed": true
   },
   "outputs": [],
   "source": [
    "y = [to_categorical(i, num_classes=n_tags) for i in y]\n"
   ]
  },
  {
   "cell_type": "code",
   "execution_count": 31,
   "metadata": {
    "collapsed": true
   },
   "outputs": [],
   "source": [
    "from sklearn.model_selection import train_test_split"
   ]
  },
  {
   "cell_type": "code",
   "execution_count": 32,
   "metadata": {
    "collapsed": true
   },
   "outputs": [],
   "source": [
    "X_tr, X_te, y_tr, y_te = train_test_split(X, y, test_size=0.1)\n"
   ]
  },
  {
   "cell_type": "code",
   "execution_count": 33,
   "metadata": {
    "collapsed": true
   },
   "outputs": [],
   "source": [
    "from keras.models import Model, Input\n",
    "from keras.layers import LSTM, Embedding, Dense, TimeDistributed, Dropout, Bidirectional\n",
    "from keras_contrib.layers import CRF"
   ]
  },
  {
   "cell_type": "code",
   "execution_count": 34,
   "metadata": {
    "collapsed": true
   },
   "outputs": [],
   "source": [
    "input = Input(shape=(max_len,))\n",
    "model = Embedding(input_dim=n_words + 1, output_dim=20,\n",
    "                  input_length=max_len, mask_zero=True)(input)  # 20-dim embedding\n",
    "model = Bidirectional(LSTM(units=50, return_sequences=True,\n",
    "                           recurrent_dropout=0.1))(model)  # variational biLSTM\n",
    "model = TimeDistributed(Dense(50, activation=\"relu\"))(model)  # a dense layer as suggested by neuralNer\n",
    "crf = CRF(n_tags)  # CRF layer\n",
    "out = crf(model)  # output"
   ]
  },
  {
   "cell_type": "code",
   "execution_count": 35,
   "metadata": {
    "collapsed": true
   },
   "outputs": [],
   "source": [
    "model = Model(input, out)"
   ]
  },
  {
   "cell_type": "code",
   "execution_count": 36,
   "metadata": {
    "collapsed": true
   },
   "outputs": [],
   "source": [
    "model.compile(optimizer=\"rmsprop\", loss=crf.loss_function, metrics=[crf.accuracy])"
   ]
  },
  {
   "cell_type": "code",
   "execution_count": null,
   "metadata": {},
   "outputs": [],
   "source": [
    "history = model.fit(X_tr, np.array(y_tr), batch_size=32, epochs=50,\n",
    "                    validation_split=0.1, verbose=1)"
   ]
  },
  {
   "cell_type": "code",
   "execution_count": null,
   "metadata": {
    "collapsed": true
   },
   "outputs": [],
   "source": []
  },
  {
   "cell_type": "code",
   "execution_count": null,
   "metadata": {
    "collapsed": true
   },
   "outputs": [],
   "source": []
  },
  {
   "cell_type": "code",
   "execution_count": null,
   "metadata": {
    "collapsed": true
   },
   "outputs": [],
   "source": []
  }
 ],
 "metadata": {
  "kernelspec": {
   "display_name": "Python 3",
   "language": "python",
   "name": "python3"
  },
  "language_info": {
   "codemirror_mode": {
    "name": "ipython",
    "version": 3
   },
   "file_extension": ".py",
   "mimetype": "text/x-python",
   "name": "python",
   "nbconvert_exporter": "python",
   "pygments_lexer": "ipython3",
   "version": "3.6.3"
  }
 },
 "nbformat": 4,
 "nbformat_minor": 2
}
